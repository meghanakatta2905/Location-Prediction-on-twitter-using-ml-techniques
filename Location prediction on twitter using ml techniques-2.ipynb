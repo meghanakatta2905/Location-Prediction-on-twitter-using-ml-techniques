{
 "cells": [
  {
   "cell_type": "code",
   "execution_count": 1,
   "id": "971b189a",
   "metadata": {},
   "outputs": [],
   "source": [
    "# Import required libraries\n",
    "import pandas as pd\n",
    "import numpy as np\n",
    "from sklearn.model_selection import train_test_split\n",
    "from sklearn.feature_extraction.text import TfidfVectorizer\n",
    "from sklearn.ensemble import RandomForestClassifier\n",
    "from sklearn.pipeline import Pipeline\n",
    "from sklearn.metrics import classification_report, confusion_matrix\n",
    "import re\n",
    "import nltk\n",
    "from nltk.corpus import stopwords\n",
    "from nltk.tokenize import word_tokenize\n",
    "import seaborn as sns\n",
    "import matplotlib.pyplot as plt\n",
    "%matplotlib inline"
   ]
  },
  {
   "cell_type": "code",
   "execution_count": 2,
   "id": "22036e99",
   "metadata": {},
   "outputs": [
    {
     "name": "stderr",
     "output_type": "stream",
     "text": [
      "[nltk_data] Downloading package punkt to\n",
      "[nltk_data]     /Users/bhavanakatta/nltk_data...\n",
      "[nltk_data]   Package punkt is already up-to-date!\n",
      "[nltk_data] Downloading package stopwords to\n",
      "[nltk_data]     /Users/bhavanakatta/nltk_data...\n",
      "[nltk_data]   Package stopwords is already up-to-date!\n"
     ]
    },
    {
     "data": {
      "text/plain": [
       "True"
      ]
     },
     "execution_count": 2,
     "metadata": {},
     "output_type": "execute_result"
    }
   ],
   "source": [
    "# Download required NLTK data\n",
    "nltk.download('punkt')\n",
    "nltk.download('stopwords')"
   ]
  },
  {
   "cell_type": "code",
   "execution_count": 3,
   "id": "4cd51e17",
   "metadata": {},
   "outputs": [],
   "source": [
    "# Create sample data\n",
    "data = {\n",
    "    'tweet_text': [\n",
    "        'Just visited the Empire State Building! Amazing view of NYC #NewYork',\n",
    "        'Golden Gate Bridge is beautiful today! Love SF weather #SanFrancisco',\n",
    "        'Chicago deep dish pizza is the best! #WindyCity',\n",
    "        'South Beach vibes are amazing! Miami living #MiamiBeach',\n",
    "        'Space Needle looking gorgeous in the sunset #Seattle',\n",
    "        'Times Square is packed tonight! NYC energy',\n",
    "        'Enjoying clam chowder at Fisherman\\'s Wharf #SF',\n",
    "        'Lake Michigan view is spectacular today #Chicago',\n",
    "        'Art Deco buildings in Miami Beach are incredible',\n",
    "        'Pike Place Market is busy this morning #Seattle'\n",
    "    ],\n",
    "    'user_description': [\n",
    "        'New Yorker, coffee lover, tech enthusiast',\n",
    "        'Bay Area native, foodie, outdoor enthusiast',\n",
    "        'Chicago sports fan, pizza lover',\n",
    "        'Miami beach life, Latin food lover',\n",
    "        'Seattle tech worker, rain lover',\n",
    "        'NYC lifestyle blogger',\n",
    "        'San Francisco explorer',\n",
    "        'Chicago music lover',\n",
    "        'Miami fashion blogger',\n",
    "        'Seattle coffee addict'\n",
    "    ],\n",
    "    'location': [\n",
    "        'New York', 'San Francisco', 'Chicago', 'Miami',\n",
    "        'Seattle', 'New York', 'San Francisco', 'Chicago',\n",
    "        'Miami', 'Seattle'\n",
    "    ]\n",
    "}"
   ]
  },
  {
   "cell_type": "code",
   "execution_count": 4,
   "id": "95aa5a78",
   "metadata": {},
   "outputs": [
    {
     "name": "stdout",
     "output_type": "stream",
     "text": [
      "Sample Data:\n"
     ]
    },
    {
     "data": {
      "text/html": [
       "<div>\n",
       "<style scoped>\n",
       "    .dataframe tbody tr th:only-of-type {\n",
       "        vertical-align: middle;\n",
       "    }\n",
       "\n",
       "    .dataframe tbody tr th {\n",
       "        vertical-align: top;\n",
       "    }\n",
       "\n",
       "    .dataframe thead th {\n",
       "        text-align: right;\n",
       "    }\n",
       "</style>\n",
       "<table border=\"1\" class=\"dataframe\">\n",
       "  <thead>\n",
       "    <tr style=\"text-align: right;\">\n",
       "      <th></th>\n",
       "      <th>tweet_text</th>\n",
       "      <th>user_description</th>\n",
       "      <th>location</th>\n",
       "    </tr>\n",
       "  </thead>\n",
       "  <tbody>\n",
       "    <tr>\n",
       "      <th>0</th>\n",
       "      <td>Just visited the Empire State Building! Amazin...</td>\n",
       "      <td>New Yorker, coffee lover, tech enthusiast</td>\n",
       "      <td>New York</td>\n",
       "    </tr>\n",
       "    <tr>\n",
       "      <th>1</th>\n",
       "      <td>Golden Gate Bridge is beautiful today! Love SF...</td>\n",
       "      <td>Bay Area native, foodie, outdoor enthusiast</td>\n",
       "      <td>San Francisco</td>\n",
       "    </tr>\n",
       "    <tr>\n",
       "      <th>2</th>\n",
       "      <td>Chicago deep dish pizza is the best! #WindyCity</td>\n",
       "      <td>Chicago sports fan, pizza lover</td>\n",
       "      <td>Chicago</td>\n",
       "    </tr>\n",
       "    <tr>\n",
       "      <th>3</th>\n",
       "      <td>South Beach vibes are amazing! Miami living #M...</td>\n",
       "      <td>Miami beach life, Latin food lover</td>\n",
       "      <td>Miami</td>\n",
       "    </tr>\n",
       "    <tr>\n",
       "      <th>4</th>\n",
       "      <td>Space Needle looking gorgeous in the sunset #S...</td>\n",
       "      <td>Seattle tech worker, rain lover</td>\n",
       "      <td>Seattle</td>\n",
       "    </tr>\n",
       "  </tbody>\n",
       "</table>\n",
       "</div>"
      ],
      "text/plain": [
       "                                          tweet_text  \\\n",
       "0  Just visited the Empire State Building! Amazin...   \n",
       "1  Golden Gate Bridge is beautiful today! Love SF...   \n",
       "2    Chicago deep dish pizza is the best! #WindyCity   \n",
       "3  South Beach vibes are amazing! Miami living #M...   \n",
       "4  Space Needle looking gorgeous in the sunset #S...   \n",
       "\n",
       "                              user_description       location  \n",
       "0    New Yorker, coffee lover, tech enthusiast       New York  \n",
       "1  Bay Area native, foodie, outdoor enthusiast  San Francisco  \n",
       "2              Chicago sports fan, pizza lover        Chicago  \n",
       "3           Miami beach life, Latin food lover          Miami  \n",
       "4              Seattle tech worker, rain lover        Seattle  "
      ]
     },
     "execution_count": 4,
     "metadata": {},
     "output_type": "execute_result"
    }
   ],
   "source": [
    "# Create DataFrame\n",
    "df = pd.DataFrame(data)\n",
    "\n",
    "# Display first few rows\n",
    "print(\"Sample Data:\")\n",
    "df.head()"
   ]
  },
  {
   "cell_type": "code",
   "execution_count": 5,
   "id": "f5c3baa4",
   "metadata": {},
   "outputs": [],
   "source": [
    "# Function to preprocess text\n",
    "def preprocess_text(text):\n",
    "    \"\"\"Clean and preprocess text data\"\"\"\n",
    "    # Convert to lowercase\n",
    "    text = str(text).lower()\n",
    "    \n",
    "    # Remove URLs\n",
    "    text = re.sub(r'http\\S+|www\\S+|https\\S+', '', text, flags=re.MULTILINE)\n",
    "    \n",
    "    # Remove user mentions\n",
    "    text = re.sub(r'@\\w+', '', text)\n",
    "    \n",
    "    # Remove hashtags\n",
    "    text = re.sub(r'#\\w+', '', text)\n",
    "    \n",
    "    # Remove numbers and special characters\n",
    "    text = re.sub(r'[^\\w\\s]', '', text)\n",
    "    text = re.sub(r'\\d+', '', text)\n",
    "    \n",
    "    # Remove extra whitespace\n",
    "    text = ' '.join(text.split())\n",
    "    \n",
    "    # Tokenization and stop words removal\n",
    "    stop_words = set(stopwords.words('english'))\n",
    "    tokens = word_tokenize(text)\n",
    "    tokens = [token for token in tokens if token not in stop_words]\n",
    "    \n",
    "    return ' '.join(tokens)"
   ]
  },
  {
   "cell_type": "code",
   "execution_count": 6,
   "id": "12d0b516",
   "metadata": {},
   "outputs": [
    {
     "name": "stdout",
     "output_type": "stream",
     "text": [
      "\n",
      "Preprocessed Data:\n",
      "\n",
      "Model Performance:\n",
      "               precision    recall  f1-score   support\n",
      "\n",
      "      Chicago       0.00      0.00      0.00       0.0\n",
      "        Miami       0.00      0.00      0.00       1.0\n",
      "     New York       0.00      0.00      0.00       0.0\n",
      "San Francisco       0.00      0.00      0.00       1.0\n",
      "\n",
      "     accuracy                           0.00       2.0\n",
      "    macro avg       0.00      0.00      0.00       2.0\n",
      " weighted avg       0.00      0.00      0.00       2.0\n",
      "\n"
     ]
    },
    {
     "name": "stderr",
     "output_type": "stream",
     "text": [
      "/Users/bhavanakatta/opt/anaconda3/lib/python3.9/site-packages/sklearn/metrics/_classification.py:1318: UndefinedMetricWarning: Precision and F-score are ill-defined and being set to 0.0 in labels with no predicted samples. Use `zero_division` parameter to control this behavior.\n",
      "  _warn_prf(average, modifier, msg_start, len(result))\n",
      "/Users/bhavanakatta/opt/anaconda3/lib/python3.9/site-packages/sklearn/metrics/_classification.py:1318: UndefinedMetricWarning: Recall and F-score are ill-defined and being set to 0.0 in labels with no true samples. Use `zero_division` parameter to control this behavior.\n",
      "  _warn_prf(average, modifier, msg_start, len(result))\n",
      "/Users/bhavanakatta/opt/anaconda3/lib/python3.9/site-packages/sklearn/metrics/_classification.py:1318: UndefinedMetricWarning: Precision and F-score are ill-defined and being set to 0.0 in labels with no predicted samples. Use `zero_division` parameter to control this behavior.\n",
      "  _warn_prf(average, modifier, msg_start, len(result))\n",
      "/Users/bhavanakatta/opt/anaconda3/lib/python3.9/site-packages/sklearn/metrics/_classification.py:1318: UndefinedMetricWarning: Recall and F-score are ill-defined and being set to 0.0 in labels with no true samples. Use `zero_division` parameter to control this behavior.\n",
      "  _warn_prf(average, modifier, msg_start, len(result))\n",
      "/Users/bhavanakatta/opt/anaconda3/lib/python3.9/site-packages/sklearn/metrics/_classification.py:1318: UndefinedMetricWarning: Precision and F-score are ill-defined and being set to 0.0 in labels with no predicted samples. Use `zero_division` parameter to control this behavior.\n",
      "  _warn_prf(average, modifier, msg_start, len(result))\n",
      "/Users/bhavanakatta/opt/anaconda3/lib/python3.9/site-packages/sklearn/metrics/_classification.py:1318: UndefinedMetricWarning: Recall and F-score are ill-defined and being set to 0.0 in labels with no true samples. Use `zero_division` parameter to control this behavior.\n",
      "  _warn_prf(average, modifier, msg_start, len(result))\n"
     ]
    }
   ],
   "source": [
    "# Apply preprocessing to tweet text and user descriptions\n",
    "df['processed_tweet'] = df['tweet_text'].apply(preprocess_text)\n",
    "df['processed_description'] = df['user_description'].apply(preprocess_text)\n",
    "\n",
    "# Combine processed text features\n",
    "df['combined_text'] = df['processed_tweet'] + ' ' + df['processed_description']\n",
    "\n",
    "# Display preprocessed data\n",
    "print(\"\\nPreprocessed Data:\")\n",
    "df[['combined_text', 'location']].head()\n",
    "\n",
    "# Create TF-IDF vectorizer and Random Forest pipeline\n",
    "pipeline = Pipeline([\n",
    "    ('tfidf', TfidfVectorizer(\n",
    "        max_features=5000,\n",
    "        ngram_range=(1, 2)\n",
    "    )),\n",
    "    ('classifier', RandomForestClassifier(\n",
    "        n_estimators=100,\n",
    "        max_depth=20,\n",
    "        random_state=42\n",
    "    ))\n",
    "])\n",
    "\n",
    "# Split the data\n",
    "X_train, X_test, y_train, y_test = train_test_split(\n",
    "    df['combined_text'],\n",
    "    df['location'],\n",
    "    test_size=0.2,\n",
    "    random_state=42\n",
    ")\n",
    "\n",
    "# Train the model\n",
    "pipeline.fit(X_train, y_train)\n",
    "# Make predictions\n",
    "y_pred = pipeline.predict(X_test)\n",
    "\n",
    "# Print classification report\n",
    "print(\"\\nModel Performance:\")\n",
    "print(classification_report(y_test, y_pred))"
   ]
  },
  {
   "cell_type": "code",
   "execution_count": 7,
   "id": "9f946582",
   "metadata": {},
   "outputs": [
    {
     "data": {
      "image/png": "[encoded data removed]",
      "text/plain": [
       "<Figure size 1000x800 with 2 Axes>"
      ]
     },
     "metadata": {},
     "output_type": "display_data"
    }
   ],
   "source": [
    "# Create confusion matrix visualization\n",
    "plt.figure(figsize=(10, 8))\n",
    "cm = confusion_matrix(y_test, y_pred)\n",
    "sns.heatmap(cm, annot=True, fmt='d', cmap='Blues',\n",
    "            xticklabels=pipeline.classes_,\n",
    "            yticklabels=pipeline.classes_)\n",
    "plt.title('Confusion Matrix')\n",
    "plt.xlabel('Predicted Label')\n",
    "plt.ylabel('True Label')\n",
    "plt.show()\n"
   ]
  },
  {
   "cell_type": "code",
   "execution_count": 8,
   "id": "1b55058e",
   "metadata": {},
   "outputs": [
    {
     "name": "stdout",
     "output_type": "stream",
     "text": [
      "\n",
      "Test Predictions:\n",
      "\n",
      "Tweet: Statue of Liberty is amazing! Love this city\n",
      "User Description: Food and culture enthusiast\n",
      "Predicted Location: New York\n",
      "Confidence: 0.38\n",
      "\n",
      "Tweet: Beautiful day at Pier 39 watching the sea lions\n",
      "User Description: Tech worker, nature lover\n",
      "Predicted Location: Seattle\n",
      "Confidence: 0.35\n"
     ]
    },
    {
     "data": {
      "image/png": "[encoded data removed]",
      "text/plain": [
       "<Figure size 1000x600 with 1 Axes>"
      ]
     },
     "metadata": {},
     "output_type": "display_data"
    }
   ],
   "source": [
    "# Function to predict location for new tweets\n",
    "def predict_location(tweet_text, user_description=''):\n",
    "    \"\"\"Predict location based on tweet text and user description\"\"\"\n",
    "    # Preprocess input\n",
    "    processed_tweet = preprocess_text(tweet_text)\n",
    "    processed_description = preprocess_text(user_description)\n",
    "    combined_text = processed_tweet + ' ' + processed_description\n",
    "    \n",
    "    # Make prediction\n",
    "    prediction = pipeline.predict([combined_text])[0]\n",
    "    probabilities = pipeline.predict_proba([combined_text])[0]\n",
    "    confidence = max(probabilities)\n",
    "    \n",
    "    return {\n",
    "        'predicted_location': prediction,\n",
    "        'confidence': confidence\n",
    "    }\n",
    "\n",
    "# Example predictions\n",
    "test_cases = [\n",
    "    {\n",
    "        'tweet': 'Statue of Liberty is amazing! Love this city',\n",
    "        'description': 'Food and culture enthusiast'\n",
    "    },\n",
    "    {\n",
    "        'tweet': 'Beautiful day at Pier 39 watching the sea lions',\n",
    "        'description': 'Tech worker, nature lover'\n",
    "    }\n",
    "]\n",
    "\n",
    "print(\"\\nTest Predictions:\")\n",
    "for case in test_cases:\n",
    "    result = predict_location(case['tweet'], case['description'])\n",
    "    print(f\"\\nTweet: {case['tweet']}\")\n",
    "    print(f\"User Description: {case['description']}\")\n",
    "    print(f\"Predicted Location: {result['predicted_location']}\")\n",
    "    print(f\"Confidence: {result['confidence']:.2f}\")\n",
    "\n",
    "# Feature importance analysis\n",
    "feature_names = pipeline.named_steps['tfidf'].get_feature_names_out()\n",
    "importances = pipeline.named_steps['classifier'].feature_importances_\n",
    "indices = np.argsort(importances)[-10:]  # Top 10 features\n",
    "\n",
    "plt.figure(figsize=(10, 6))\n",
    "plt.title('Top 10 Most Important Features')\n",
    "plt.barh(range(10), importances[indices])\n",
    "plt.yticks(range(10), [feature_names[i] for i in indices])\n",
    "plt.xlabel('Feature Importance')\n",
    "plt.show()"
   ]
  },
  {
   "cell_type": "code",
   "execution_count": null,
   "id": "d15cf819",
   "metadata": {},
   "outputs": [],
   "source": []
  }
 ],
 "metadata": {
  "kernelspec": {
   "display_name": "Python 3 (ipykernel)",
   "language": "python",
   "name": "python3"
  },
  "language_info": {
   "codemirror_mode": {
    "name": "ipython",
    "version": 3
   },
   "file_extension": ".py",
   "mimetype": "text/x-python",
   "name": "python",
   "nbconvert_exporter": "python",
   "pygments_lexer": "ipython3",
   "version": "3.9.13"
  }
 },
 "nbformat": 4,
 "nbformat_minor": 5
}
